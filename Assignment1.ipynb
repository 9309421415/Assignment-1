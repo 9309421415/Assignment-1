{
 "cells": [
  {
   "cell_type": "code",
   "execution_count": 1,
   "id": "45645a00-10a1-4f85-8746-7f1d786a97de",
   "metadata": {},
   "outputs": [
    {
     "name": "stdin",
     "output_type": "stream",
     "text": [
      "Enter the number of days:  786\n"
     ]
    },
    {
     "name": "stdout",
     "output_type": "stream",
     "text": [
      "0 days is equal to 2 years, 8 weeks, and 0 days.\n"
     ]
    }
   ],
   "source": [
    "'''1. Write a program to convert specified days into years, weeks and days.\n",
    "Take user input.\n",
    "Note: Ignore leap year'''\n",
    "def convert_days_to_years_weeks_days(days):\n",
    "    years = days // 365\n",
    "    weeks = (days % 365) // 7\n",
    "    days = (days % 365) % 7\n",
    "    return years, weeks, days\n",
    "\n",
    "def main():\n",
    "    days = int(input(\"Enter the number of days: \"))\n",
    "    years, weeks, days = convert_days_to_years_weeks_days(days)\n",
    "    print(f\"{days} days is equal to {years} years, {weeks} weeks, and {days} days.\")\n",
    "\n",
    "if __name__ == \"__main__\":\n",
    "    main()"
   ]
  },
  {
   "cell_type": "code",
   "execution_count": 2,
   "id": "ae352e36-057f-4765-b471-f95f3993b124",
   "metadata": {},
   "outputs": [
    {
     "name": "stdin",
     "output_type": "stream",
     "text": [
      "Enter the basic salary of the employee:  5000\n"
     ]
    },
    {
     "name": "stdout",
     "output_type": "stream",
     "text": [
      "The gross salary of the employee is: 10000.00\n"
     ]
    }
   ],
   "source": [
    "'''2. Write a Python program to input basiPython salary of an employee and\n",
    "calculate its Gross salary according to following:\n",
    "Basic Salary <= 10000 : HRA = 20%, DA = 80%\n",
    "Basic Salary <= 20000 : HRA = 30%, DA = 90%\n",
    "Basic Salary > 20000 : HRA = 35%, DA = 95%'''\n",
    "\n",
    "def calculate_gross_salary():\n",
    "    basic_salary = float(input(\"Enter the basic salary of the employee: \"))\n",
    "    \n",
    "    if basic_salary <= 10000:\n",
    "        hra = basic_salary * 0.20\n",
    "        da = basic_salary * 0.80\n",
    "    elif 10000 < basic_salary <= 20000:\n",
    "        hra = basic_salary * 0.30\n",
    "        da = basic_salary * 0.90\n",
    "    else:\n",
    "        hra = basic_salary * 0.35\n",
    "        da = basic_salary * 0.95\n",
    "    \n",
    "    gross_salary = basic_salary + hra + da\n",
    "    print(f\"The gross salary of the employee is: {gross_salary:.2f}\")\n",
    "\n",
    "if __name__ == \"__main__\":\n",
    "    calculate_gross_salary()\n"
   ]
  },
  {
   "cell_type": "code",
   "execution_count": 3,
   "id": "f4a838a3-0838-4b17-bc49-aa699ccf39dd",
   "metadata": {},
   "outputs": [
    {
     "name": "stdin",
     "output_type": "stream",
     "text": [
      "Enter the total electricity units consumed:  516\n"
     ]
    },
    {
     "name": "stdout",
     "output_type": "stream",
     "text": [
      "The total electricity bill is: 730.08\n"
     ]
    }
   ],
   "source": [
    "'''3. Write a Python program to input electricity unit charges and calculate total\n",
    "electricity bill according to the given condition:\n",
    "For first 50 units Rs. 0.50/unit\n",
    "For next 100 units Rs. 0.75/unit\n",
    "For next 100 units Rs. 1.25/unit\n",
    "For unit above 250 Rs. 1.50/unit\n",
    "An additional surcharge of 17% is added to the bill'''\n",
    "\n",
    "def calculate_electricity_bill():\n",
    "    units = float(input(\"Enter the total electricity units consumed: \"))\n",
    "    \n",
    "    if units <= 50:\n",
    "        charge = units * 0.50\n",
    "    elif 50 < units <= 150:\n",
    "        charge = 50 * 0.50 + (units - 50) * 0.75\n",
    "    elif 150 < units <= 250:\n",
    "        charge = 50 * 0.50 + 100 * 0.75 + (units - 150) * 1.25\n",
    "    else:\n",
    "        charge = 50 * 0.50 + 100 * 0.75 + 100 * 1.25 + (units - 250) * 1.50\n",
    "    \n",
    "    surcharge = charge * 0.17\n",
    "    total_bill = charge + surcharge\n",
    "    print(f\"The total electricity bill is: {total_bill:.2f}\")\n",
    "\n",
    "if __name__ == \"__main__\":\n",
    "    calculate_electricity_bill()"
   ]
  },
  {
   "cell_type": "code",
   "execution_count": 4,
   "id": "52b48e83-9bec-4995-96e4-d57e43454000",
   "metadata": {},
   "outputs": [
    {
     "name": "stdin",
     "output_type": "stream",
     "text": [
      "Enter the number of rows:  5\n"
     ]
    },
    {
     "name": "stdout",
     "output_type": "stream",
     "text": [
      "1 \n",
      "2 2 \n",
      "3 3 3 \n",
      "4 4 4 4 \n",
      "5 5 5 5 5 \n"
     ]
    }
   ],
   "source": [
    "'''4. Write a Python program to print the given number patterns.\n",
    "1\n",
    "2 2\n",
    "3 3 3\n",
    "4 4 4 4\n",
    "5 5 5 5 5'''\n",
    "\n",
    "def print_number_patterns(n):\n",
    "    for i in range(1, n + 1):\n",
    "        for j in range(1, i + 1):\n",
    "            print(i, end=' ')\n",
    "        print()\n",
    "\n",
    "if __name__ == \"__main__\":\n",
    "    n = int(input(\"Enter the number of rows: \"))\n",
    "    print_number_patterns(n)"
   ]
  },
  {
   "cell_type": "code",
   "execution_count": 6,
   "id": "0b5ed031-f3fe-41ec-bac4-92132b68cf87",
   "metadata": {},
   "outputs": [
    {
     "name": "stdin",
     "output_type": "stream",
     "text": [
      "Enter a number:  786\n"
     ]
    },
    {
     "name": "stdout",
     "output_type": "stream",
     "text": [
      "Product of digits of 786 is 336\n"
     ]
    }
   ],
   "source": [
    "'''5. Write a Python program to calculate product of digits of a number. Read\n",
    "value of n from user.'''\n",
    "\n",
    "def product_of_digits(n):\n",
    "    product = 1\n",
    "    while n > 0:\n",
    "        digit = n % 10\n",
    "        product *= digit\n",
    "        n //= 10\n",
    "    return product\n",
    "\n",
    "n = int(input(\"Enter a number: \"))\n",
    "print(\"Product of digits of\", n, \"is\", product_of_digits(n))\n",
    "\n"
   ]
  },
  {
   "cell_type": "code",
   "execution_count": 10,
   "id": "238af8b8-c8c2-4d8f-a20a-54d88eab77e8",
   "metadata": {},
   "outputs": [
    {
     "name": "stdout",
     "output_type": "stream",
     "text": [
      "String values: ['Hello', 'World']\n",
      "Strings in upper case: ['HELLO', 'WORLD']\n",
      "Sum of integers: 124\n",
      "56 is not present in the list.\n",
      "List in reverse order: ['World', 23.45, 'Hello', 12, 67, 45]\n",
      "List after removing 'Hello': [45, 67, 12, 23.45, 'World']\n",
      "List after inserting 36: [45, 67, 12, 23.45, 36, 'World']\n",
      "Total number of elements: 6\n",
      "Values from 2nd to 5th index: [67, 12, 23.45, 36]\n",
      "List after appending [34, ‘Pune’]: [45, 67, 12, 23.45, 36, 'World', 34, 'Pune']\n",
      "List after deleting the last element: [45, 67, 12, 23.45, 36, 'World', 34]\n"
     ]
    }
   ],
   "source": [
    "'''6. Create a list of elements like: x = [45, 67, 12, ‘Hello’, 23.45, ‘World’] and\n",
    "oerform following\n",
    "operations\n",
    "1. Extract only string values from this list.\n",
    "2. Create a new list with strings in upper case.\n",
    "3. Find the addition of integer values\n",
    "4. Check that the value 56 is present in it or not.\n",
    "5. Print the list in reverse order.\n",
    "6. Delete the string ‘Hello’ from it.\n",
    "7. Insert a new value of 36 at 5th position in list.\n",
    "8. Count total number of elements in list now.\n",
    "9. Extract the values from 2nd index to 5th index.\n",
    "10. Append [34, ‘Pune’] to this list.\n",
    "11. Delete the last element from list.'''\n",
    "\n",
    "x = [45, 67, 12, 'Hello', 23.45, 'World']\n",
    "\n",
    "# Extract only string values from the list\n",
    "strings = [i for i in x if isinstance(i, str)]\n",
    "print(\"String values:\", strings)\n",
    "\n",
    "# Create a new list with strings in upper case\n",
    "upper_case_strings = [s.upper() for s in strings]\n",
    "print(\"Strings in upper case:\", upper_case_strings)\n",
    "\n",
    "# Find the addition of integer values\n",
    "integers = [i for i in x if isinstance(i, int)]\n",
    "sum_of_integers = sum(integers)\n",
    "print(\"Sum of integers:\", sum_of_integers)\n",
    "\n",
    "# Check that the value 56 is present in it or not\n",
    "if 56 in x:\n",
    "    print(\"56 is present in the list.\")\n",
    "else:\n",
    "    print(\"56 is not present in the list.\")\n",
    "\n",
    "# Print the list in reverse order\n",
    "print(\"List in reverse order:\", x[::-1])\n",
    "\n",
    "# Delete the string ‘Hello’ from it\n",
    "x.remove('Hello')\n",
    "print(\"List after removing 'Hello':\", x)\n",
    "\n",
    "# Insert a new value of 36 at 5th position in list\n",
    "x.insert(4, 36)\n",
    "print(\"List after inserting 36:\", x)\n",
    "\n",
    "# Count total number of elements in list now\n",
    "print(\"Total number of elements:\", len(x))\n",
    "\n",
    "# Extract the values from 2nd index to 5th index\n",
    "print(\"Values from 2nd to 5th index:\", x[1:5])\n",
    "\n",
    "# Append [34, ‘Pune’] to this list\n",
    "x.extend([34, 'Pune'])\n",
    "print(\"List after appending [34, ‘Pune’]:\", x)\n",
    "\n",
    "# Delete the last element from list\n",
    "x.pop()\n",
    "print(\"List after deleting the last element:\", x)"
   ]
  },
  {
   "cell_type": "code",
   "execution_count": 11,
   "id": "a0d995b2-bc84-423d-88a7-26403690b64c",
   "metadata": {},
   "outputs": [
    {
     "name": "stdout",
     "output_type": "stream",
     "text": [
      "[1.62, 2.71, 3.14, 4.23, 50.0]\n",
      "50 is present in the tuple.\n",
      "{1.62, 2.71, 3.14, 4.23, 50.0}\n"
     ]
    }
   ],
   "source": [
    "'''7. Create a tuple of elements with 5 float values in it and perform following\n",
    "operations.\n",
    "1. Print the data in sorted manner.\n",
    "2. Check to see that the element 50 is present in it.\n",
    "3. Convert this tuple in set.'''\n",
    "\n",
    "# Create a tuple with 5 float values\n",
    "float_tuple = (3.14, 1.62, 50.0, 2.71, 4.23)\n",
    "\n",
    "# Print the data in sorted manner\n",
    "print(sorted(float_tuple))\n",
    "\n",
    "# Check to see that the element 50 is present in it\n",
    "if 50 in float_tuple:\n",
    "    print(\"50 is present in the tuple.\")\n",
    "else:\n",
    "    print(\"50 is not present in the tuple.\")\n",
    "\n",
    "# Convert this tuple in set\n",
    "float_set = set(float_tuple)\n",
    "print(float_set)"
   ]
  },
  {
   "cell_type": "code",
   "execution_count": 13,
   "id": "e1aa644e-13cf-4d09-be86-bfac77e9e19d",
   "metadata": {},
   "outputs": [
    {
     "name": "stdout",
     "output_type": "stream",
     "text": [
      "king\n",
      "{'a': 'apple', 'b': 'ball', 'c': 'cat', 'd': 'doll', 'k': 'king', 'z': 'zebra'}\n",
      "{'a': 'apple', 'b': 'ball', 'c': 'cat', 'd': 'dog', 'k': 'king', 'z': 'zebra'}\n",
      "dict_values(['apple', 'ball', 'cat', 'dog', 'king', 'zebra'])\n",
      "6\n"
     ]
    }
   ],
   "source": [
    "'''8. Create a dictionary of elements: {‘a’: ‘apple’, ‘b’: ‘ball’, ‘c’: ‘cat’, ‘d’: ‘doll’, ‘k’:\n",
    "‘king’} and\n",
    "perform following operations.\n",
    "1. Access the data at key ‘k’.\n",
    "2. Add a new values ‘z’: ‘zebra’\n",
    "3. Replace the contents of ‘d’ as ‘dog’\n",
    "4. Print all the values from this dictionary.\n",
    "5. Find the length of this dictionary.'''\n",
    "# Create a dictionary\n",
    "fruit_dict = {'a': 'apple', 'b': 'ball', 'c': 'cat', 'd': 'doll', 'k': 'king'}\n",
    "\n",
    "# Access the data at key 'k'\n",
    "print(fruit_dict['k'])  # Output: king\n",
    "\n",
    "# Add a new value 'z': 'zebra'\n",
    "fruit_dict['z'] = 'zebra'\n",
    "print(fruit_dict)  # Output: {'a': 'apple', 'b': 'ball', 'c': 'cat', 'd': 'doll', 'k': 'king', 'z': 'zebra'}\n",
    "\n",
    "# Replace the contents of 'd' as 'dog'\n",
    "fruit_dict['d'] = 'dog'\n",
    "print(fruit_dict)  # Output: {'a': 'apple', 'b': 'ball', 'c': 'cat', 'd': 'dog', 'k': 'king', 'z': 'zebra'}\n",
    "\n",
    "# Print all the values from this dictionary\n",
    "print(fruit_dict.values())  # Output: dict_values(['apple', 'ball', 'cat', 'dog', 'king', 'zebra'])\n",
    "\n",
    "# Find the length of this dictionary\n",
    "print(len(fruit_dict))  # Output: 6"
   ]
  },
  {
   "cell_type": "code",
   "execution_count": 14,
   "id": "e3b7ed85-9d51-4332-868d-7a5b9f3b03b4",
   "metadata": {},
   "outputs": [
    {
     "name": "stdout",
     "output_type": "stream",
     "text": [
      "Second largest element is: 20\n"
     ]
    }
   ],
   "source": [
    "'''9. Write a program to find the second largest element in a list.'''\n",
    "\n",
    "def second_largest(lst):\n",
    "    if len(lst) < 2:\n",
    "        return None\n",
    "    lst.sort()\n",
    "    return lst[-2]\n",
    "numbers = [10, 3, 20, 9, 11, 15, 23, 6]\n",
    "print(\"Second largest element is:\", second_largest(numbers))"
   ]
  },
  {
   "cell_type": "code",
   "execution_count": null,
   "id": "dc469fca-1890-4396-8ec2-cc99ac36e104",
   "metadata": {},
   "outputs": [],
   "source": [
    "'''10. This is a list of some metallic elements.\n",
    "metals = [ 'silver','gold', ... ]\n",
    "Make a new list that is almost identical to the metals list: the new\n",
    "contains the same items, in the same order, except that it does NOT\n",
    "contain the item 'copper'.'''\n",
    "\n",
    "metals = ['silver', 'gold', 'copper', 'tin', 'iron', 'zinc']\n",
    "new_metals = [metal for metal in metals if metal != 'copper']\n",
    "print(new_metals)"
   ]
  }
 ],
 "metadata": {
  "kernelspec": {
   "display_name": "Python 3 (ipykernel)",
   "language": "python",
   "name": "python3"
  },
  "language_info": {
   "codemirror_mode": {
    "name": "ipython",
    "version": 3
   },
   "file_extension": ".py",
   "mimetype": "text/x-python",
   "name": "python",
   "nbconvert_exporter": "python",
   "pygments_lexer": "ipython3",
   "version": "3.11.7"
  }
 },
 "nbformat": 4,
 "nbformat_minor": 5
}
